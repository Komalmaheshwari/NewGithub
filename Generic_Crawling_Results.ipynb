{
 "cells": [
  {
   "cell_type": "markdown",
   "metadata": {},
   "source": [
    "Importing required library"
   ]
  },
  {
   "cell_type": "code",
   "execution_count": 1,
   "metadata": {},
   "outputs": [],
   "source": [
    "from googlesearch import search \n",
    "from urllib.request import urlopen\n",
    "from bs4 import BeautifulSoup\n",
    "import requests\n",
    "import pandas as pd\n",
    "import re\n",
    "from datetime import date \n",
    "from selenium import webdriver"
   ]
  },
  {
   "cell_type": "markdown",
   "metadata": {},
   "source": [
    "Initializing the value"
   ]
  },
  {
   "cell_type": "code",
   "execution_count": 2,
   "metadata": {},
   "outputs": [],
   "source": [
    "count = 1\n",
    "list_url = []\n",
    "query = \"CBVPM8271P\"\n",
    "word = [\"wikipedia\",\"twitter\",\"instagram\",\"facebook\",\"linkedin\",\"youtube\",\"gstatic\", \"yourstory\",\"crunchbase\",\"taxguru\"]"
   ]
  },
  {
   "cell_type": "markdown",
   "metadata": {},
   "source": [
    "Results from google search"
   ]
  },
  {
   "cell_type": "code",
   "execution_count": 3,
   "metadata": {},
   "outputs": [
    {
     "data": {
      "text/plain": [
       "['https://www.knowyourgst.com/gst-number-search/m-j-enterprise-23CBVPM8271P2ZL/',\n",
       " 'https://docplayer.vn/198918884-Camscanner.html']"
      ]
     },
     "execution_count": 3,
     "metadata": {},
     "output_type": "execute_result"
    }
   ],
   "source": [
    "for item in search(query, tld=\"co.in\", num=5, start=0, stop=30, pause=2.0):\n",
    "    no_=0\n",
    "    for token in word:        \n",
    "        if re.search(token,item)==None:            \n",
    "            no_=no_+1            \n",
    "            if no_ ==len(word):\n",
    "                list_url.append(item)\n",
    "final=list_url[0:10]\n",
    "final"
   ]
  },
  {
   "cell_type": "code",
   "execution_count": 4,
   "metadata": {},
   "outputs": [],
   "source": [
    "df=pd.DataFrame(columns=['Date','POI','URL','Headline','Article_ID','website to path_to_downloaded_webspage'])"
   ]
  },
  {
   "cell_type": "markdown",
   "metadata": {},
   "source": [
    "For every link finding heading and article"
   ]
  },
  {
   "cell_type": "code",
   "execution_count": 5,
   "metadata": {},
   "outputs": [
    {
     "name": "stderr",
     "output_type": "stream",
     "text": [
      "C:\\Users\\10653909\\Anaconda3\\lib\\site-packages\\urllib3\\connectionpool.py:981: InsecureRequestWarning: Unverified HTTPS request is being made to host 'www.knowyourgst.com'. Adding certificate verification is strongly advised. See: https://urllib3.readthedocs.io/en/latest/advanced-usage.html#ssl-warnings\n",
      "  warnings.warn(\n",
      "<ipython-input-5-930dcb5d725d>:15: DeprecationWarning: use options instead of chrome_options\n",
      "  driver = webdriver.Chrome(executable_path=r\"C:\\Users\\10653909\\Downloads\\chromedriver_win32\\\\chromedriver.exe\", chrome_options=options)\n"
     ]
    },
    {
     "name": "stdout",
     "output_type": "stream",
     "text": [
      "https://www.knowyourgst.com/gst-number-search/m-j-enterprise-23CBVPM8271P2ZL/\n"
     ]
    },
    {
     "name": "stderr",
     "output_type": "stream",
     "text": [
      "C:\\Users\\10653909\\Anaconda3\\lib\\site-packages\\urllib3\\connectionpool.py:981: InsecureRequestWarning: Unverified HTTPS request is being made to host 'docplayer.vn'. Adding certificate verification is strongly advised. See: https://urllib3.readthedocs.io/en/latest/advanced-usage.html#ssl-warnings\n",
      "  warnings.warn(\n"
     ]
    },
    {
     "name": "stdout",
     "output_type": "stream",
     "text": [
      "https://docplayer.vn/198918884-Camscanner.html\n"
     ]
    }
   ],
   "source": [
    "for url in final:\n",
    "    date = date.today()\n",
    "    response = requests.get(url, verify=False)\n",
    "    soup = BeautifulSoup(response.content, \"html.parser\")\n",
    "    head=soup.find(\"head\").text\n",
    "    lines = (line.strip() for line in head.splitlines())\n",
    "    chunks = (phrase.strip() for line in lines for phrase in line.split(\"  \"))\n",
    "    Headline = '\\n'.join(chunk for chunk in chunks if chunk) \n",
    "    \n",
    "    filename = query+\"_\"+str(count)+\".html\"\n",
    "    article = query+\"_\"+str(count)\n",
    "    count = count+1\n",
    "    options = webdriver.ChromeOptions()\n",
    "    options.add_argument(\"headless\")\n",
    "    driver = webdriver.Chrome(executable_path=r\"C:\\Users\\10653909\\Downloads\\chromedriver_win32\\\\chromedriver.exe\", chrome_options=options)\n",
    "    driver.get(url)\n",
    "    with open(filename, \"w\", encoding=\"utf-8\") as f:\n",
    "        f.write(driver.page_source)\n",
    "    website = \"C:/Users/10653909/Documents/Web scraping/\"+filename\n",
    "    print(url)\n",
    "    \n",
    "\n",
    "        \n",
    "    \n",
    "    list_df = []\n",
    "    list_df.append(date)\n",
    "    list_df.append(query)\n",
    "    list_df.append(url)\n",
    "    list_df.append(Headline)\n",
    "    list_df.append(article)\n",
    "    list_df.append(website)  \n",
    "    df.loc[len(df)] = list_df        "
   ]
  },
  {
   "cell_type": "code",
   "execution_count": 6,
   "metadata": {},
   "outputs": [
    {
     "data": {
      "text/html": [
       "<div>\n",
       "<style scoped>\n",
       "    .dataframe tbody tr th:only-of-type {\n",
       "        vertical-align: middle;\n",
       "    }\n",
       "\n",
       "    .dataframe tbody tr th {\n",
       "        vertical-align: top;\n",
       "    }\n",
       "\n",
       "    .dataframe thead th {\n",
       "        text-align: right;\n",
       "    }\n",
       "</style>\n",
       "<table border=\"1\" class=\"dataframe\">\n",
       "  <thead>\n",
       "    <tr style=\"text-align: right;\">\n",
       "      <th></th>\n",
       "      <th>Date</th>\n",
       "      <th>POI</th>\n",
       "      <th>URL</th>\n",
       "      <th>Headline</th>\n",
       "      <th>Article_ID</th>\n",
       "      <th>website to path_to_downloaded_webspage</th>\n",
       "    </tr>\n",
       "  </thead>\n",
       "  <tbody>\n",
       "    <tr>\n",
       "      <th>0</th>\n",
       "      <td>2021-02-11</td>\n",
       "      <td>CBVPM8271P</td>\n",
       "      <td>https://www.knowyourgst.com/gst-number-search/...</td>\n",
       "      <td>GST number of\\nM J Enterprise\\nis 23CBVPM8271P...</td>\n",
       "      <td>CBVPM8271P_1</td>\n",
       "      <td>C:/Users/10653909/Documents/Web scraping/CBVPM...</td>\n",
       "    </tr>\n",
       "    <tr>\n",
       "      <th>1</th>\n",
       "      <td>2021-02-11</td>\n",
       "      <td>CBVPM8271P</td>\n",
       "      <td>https://docplayer.vn/198918884-Camscanner.html</td>\n",
       "      <td>CamScanner - PDF Free Download</td>\n",
       "      <td>CBVPM8271P_2</td>\n",
       "      <td>C:/Users/10653909/Documents/Web scraping/CBVPM...</td>\n",
       "    </tr>\n",
       "  </tbody>\n",
       "</table>\n",
       "</div>"
      ],
      "text/plain": [
       "         Date         POI                                                URL  \\\n",
       "0  2021-02-11  CBVPM8271P  https://www.knowyourgst.com/gst-number-search/...   \n",
       "1  2021-02-11  CBVPM8271P     https://docplayer.vn/198918884-Camscanner.html   \n",
       "\n",
       "                                            Headline    Article_ID  \\\n",
       "0  GST number of\\nM J Enterprise\\nis 23CBVPM8271P...  CBVPM8271P_1   \n",
       "1                     CamScanner - PDF Free Download  CBVPM8271P_2   \n",
       "\n",
       "              website to path_to_downloaded_webspage  \n",
       "0  C:/Users/10653909/Documents/Web scraping/CBVPM...  \n",
       "1  C:/Users/10653909/Documents/Web scraping/CBVPM...  "
      ]
     },
     "execution_count": 6,
     "metadata": {},
     "output_type": "execute_result"
    }
   ],
   "source": [
    "df"
   ]
  },
  {
   "cell_type": "markdown",
   "metadata": {},
   "source": [
    "Converting into csv"
   ]
  },
  {
   "cell_type": "code",
   "execution_count": 7,
   "metadata": {},
   "outputs": [],
   "source": [
    "df.to_csv('Results.csv')"
   ]
  },
  {
   "cell_type": "code",
   "execution_count": null,
   "metadata": {},
   "outputs": [],
   "source": []
  }
 ],
 "metadata": {
  "kernelspec": {
   "display_name": "Python 3",
   "language": "python",
   "name": "python3"
  },
  "language_info": {
   "codemirror_mode": {
    "name": "ipython",
    "version": 3
   },
   "file_extension": ".py",
   "mimetype": "text/x-python",
   "name": "python",
   "nbconvert_exporter": "python",
   "pygments_lexer": "ipython3",
   "version": "3.8.5"
  }
 },
 "nbformat": 4,
 "nbformat_minor": 4
}
