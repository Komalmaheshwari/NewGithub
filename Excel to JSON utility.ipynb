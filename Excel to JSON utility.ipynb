{
 "cells": [
  {
   "cell_type": "code",
   "execution_count": 1,
   "metadata": {},
   "outputs": [],
   "source": [
    "import tkinter as tk\n",
    "from tkinter.filedialog import askopenfile\n",
    "from tkinter.messagebox import showinfo\n",
    "import requests\n",
    "import urllib\n",
    "import pandas as pd\n",
    "import json"
   ]
  },
  {
   "cell_type": "code",
   "execution_count": 4,
   "metadata": {},
   "outputs": [],
   "source": [
    "root = tk.Tk()\n",
    "HEIGHT = 500\n",
    "WIDTH = 600\n",
    "\n",
    "\n",
    "def excel_download():\n",
    "    InputFormat = pd.DataFrame(columns = ['SettlementAmount','SettlementDate','RegistrationNumber','Name','InvoiceNo','InvoiceDate','InvoiceType',\n",
    "'GoodsServiceID','PaymentTerm','GrossTotal','NetTotal','SettlementDiscount','TaxAmount','ShippingCostsAmountTotal'])\n",
    "    InputFormat.to_csv('/Users/10653909/Downloads/Excel to JSON Utility/INPUT/InputFormat.csv')\n",
    "    showinfo(\"Ok\",\"Input file saved in downloads\")\n",
    "    \n",
    "def upload_file():           \n",
    "    filef = askopenfile(filetypes = [('Excel files', '*.*')])    \n",
    "    df_purch = pd.read_csv(filef)\n",
    "    random=df_purch.to_json(orient=\"records\")\n",
    "    parsed=json.loads(random)\n",
    "    with open('C:/Users/10653909/Downloads/Excel to JSON Utility/OUTPUT/purchase_invoice_data.json', \"w\") as outfile: \n",
    "        json.dump(parsed,outfile,indent=2)    \n",
    "    showinfo(\"Done\",\"File Succesfully Converted\")\n",
    "    \n",
    "def Output_download():\n",
    "    showinfo(\"Ok\",\"Output file saved in downloads\")\n",
    "\n",
    "root.title(\"Excel to JSON converter\")\n",
    "canvas = tk.Canvas(root, height=HEIGHT, width=WIDTH)\n",
    "canvas.pack()\n",
    "\n",
    "frame = tk.Frame(root, bg='#80c1ff')\n",
    "frame.place(relx=.1, rely=.1, relwidth=.8, relheight=.8)\n",
    "\n",
    "button = tk.Button(frame, text=\"Download excel format\", command=excel_download)\n",
    "button.place(relx=.25, rely=.05, relwidth=.3, relheight=.1)\n",
    "\n",
    "label = tk.Label(frame, text= \"Choose File:- \", bg='#80c1ff')\n",
    "label.place(relx=.1, rely=.205, relwidth=.3, relheight=.1)\n",
    "\n",
    "button1 = tk.Button(frame, text=\"Select\", width=30, command=upload_file)\n",
    "button1.place(relx=.4, rely=.205, relwidth=.3, relheight=.1)\n",
    "\n",
    "label1 = tk.Label(frame, text= \"Download converted file \", bg='#80c1ff')\n",
    "label1.place(relx=.1, rely=.405, relwidth=.3, relheight=.1)\n",
    "\n",
    "button2 = tk.Button(frame, text=\"Download\", width=30, command=Output_download)\n",
    "button2.place(relx=.4, rely=.405, relwidth=.3, relheight=.1)\n",
    "\n",
    "\n",
    "\n",
    "root.mainloop()"
   ]
  },
  {
   "cell_type": "code",
   "execution_count": null,
   "metadata": {},
   "outputs": [],
   "source": []
  },
  {
   "cell_type": "code",
   "execution_count": null,
   "metadata": {},
   "outputs": [],
   "source": []
  },
  {
   "cell_type": "code",
   "execution_count": null,
   "metadata": {},
   "outputs": [],
   "source": []
  }
 ],
 "metadata": {
  "kernelspec": {
   "display_name": "Python 3",
   "language": "python",
   "name": "python3"
  },
  "language_info": {
   "codemirror_mode": {
    "name": "ipython",
    "version": 3
   },
   "file_extension": ".py",
   "mimetype": "text/x-python",
   "name": "python",
   "nbconvert_exporter": "python",
   "pygments_lexer": "ipython3",
   "version": "3.8.5"
  }
 },
 "nbformat": 4,
 "nbformat_minor": 4
}
